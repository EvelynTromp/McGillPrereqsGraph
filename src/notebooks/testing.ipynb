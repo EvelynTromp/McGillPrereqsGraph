{
 "cells": [
  {
   "cell_type": "code",
   "execution_count": null,
   "metadata": {},
   "outputs": [],
   "source": [
    "import os\n",
    "if not os.getcwd().endswith('McGillPrereqsGraph'):\n",
    "    os.chdir('../../../McGillPrereqsGraph')\n",
    "%pip install -r requirements.txt -q"
   ]
  },
  {
   "cell_type": "code",
   "execution_count": null,
   "metadata": {},
   "outputs": [],
   "source": [
    "import os\n",
    "from src.utils.settings import PROJECT_PATH, DATA_PATH"
   ]
  },
  {
   "cell_type": "code",
   "execution_count": null,
   "metadata": {},
   "outputs": [],
   "source": [
    "def get_python_files(directory):\n",
    "    python_files = []\n",
    "    for root, _, files in os.walk(directory):\n",
    "        for file in files:\n",
    "            if file.endswith('.py'):\n",
    "                python_files.append(os.path.join(root, file))\n",
    "    return python_files\n",
    "\n",
    "def write_files_to_txt(python_files, output_file):\n",
    "    with open(output_file, 'w') as outfile:\n",
    "        for file_path in python_files:\n",
    "            relative_path = os.path.relpath(file_path, os.getcwd())\n",
    "            with open(file_path, 'r') as infile:\n",
    "                code = infile.read()\n",
    "            outfile.write(f\"{relative_path}\\n\")\n",
    "            outfile.write(\"```py\\n\")\n",
    "            outfile.write(code)\n",
    "            outfile.write(\"\\n```\\n\\n\")"
   ]
  },
  {
   "cell_type": "code",
   "execution_count": null,
   "metadata": {},
   "outputs": [],
   "source": [
    "output_file = DATA_PATH / 'output.txt'\n",
    "python_files = get_python_files(PROJECT_PATH)\n",
    "write_files_to_txt(python_files, output_file)\n",
    "print(f\"All Python files have been written to {output_file}\")"
   ]
  }
 ],
 "metadata": {
  "kernelspec": {
   "display_name": "Python 3",
   "language": "python",
   "name": "python3"
  },
  "language_info": {
   "codemirror_mode": {
    "name": "ipython",
    "version": 3
   },
   "file_extension": ".py",
   "mimetype": "text/x-python",
   "name": "python",
   "nbconvert_exporter": "python",
   "pygments_lexer": "ipython3",
   "version": "3.11.5"
  }
 },
 "nbformat": 4,
 "nbformat_minor": 2
}
